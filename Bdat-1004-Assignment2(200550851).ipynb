{
 "cells": [
  {
   "cell_type": "markdown",
   "id": "1415e9ff",
   "metadata": {},
   "source": [
    "# BDAT 1004 assignment 2 \n",
    "### submitted by Gurleen Bhullar (200550851)"
   ]
  },
  {
   "cell_type": "code",
   "execution_count": 76,
   "id": "c6b613e4",
   "metadata": {},
   "outputs": [
    {
     "name": "stdout",
     "output_type": "stream",
     "text": [
      "the value of a is:  6\n"
     ]
    }
   ],
   "source": [
    "#question 1\n",
    "a=0 \n",
    "def b():\n",
    "    global a \n",
    "    a= c(a)\n",
    "def c(a):\n",
    "    return a+2\n",
    "b()\n",
    "b()\n",
    "b()\n",
    "print(\"the value of a is: \",a)"
   ]
  },
  {
   "cell_type": "markdown",
   "id": "4cb2b3dc",
   "metadata": {},
   "source": [
    "    the value of a is 6\n",
    "    first a is initiated to 0\n",
    "    then a global variabke is defined which can be used outside of function\n",
    "    by doing a+2 three times\n",
    "    a which was 0 becomes \n",
    "    2+2+2 =6"
   ]
  },
  {
   "cell_type": "code",
   "execution_count": 77,
   "id": "df719257",
   "metadata": {},
   "outputs": [
    {
     "name": "stdout",
     "output_type": "stream",
     "text": [
      "File midterm.py not found.\n",
      "None\n",
      "File idterm.py not found.\n",
      "None\n",
      "The length of the file is: 123\n",
      "The length of the file is: 25451\n",
      "Enter the file path: C:\\Users\\manvi\\Downloads\\Pharmacy-Management-System-main\\demo.py\n",
      "25451\n"
     ]
    }
   ],
   "source": [
    "#Q2\n",
    "def fileLength(filename=None):\n",
    "    try:\n",
    "        if not filename:\n",
    "            filename = input(\"Enter the file path: \")\n",
    "\n",
    "        with open(filename, 'r', errors='replace') as infile:\n",
    "            content = infile.read()\n",
    "        return len(content)\n",
    "    except FileNotFoundError:\n",
    "        print(f\"File {filename} not found.\")\n",
    "\n",
    "# Example usage:\n",
    "print(fileLength('midterm.py'))\n",
    "print(fileLength('idterm.py'))\n",
    "file_1 = fileLength('C:\\\\Users\\\\manvi\\\\OneDrive - EMT Megatherm Pvt Ltd\\\\Documents\\\\filelength.txt')\n",
    "print(f\"The length of the file is:\", file_1)\n",
    "file_2 = fileLength('C:\\\\Users\\\\manvi\\\\Downloads\\\\Pharmacy-Management-System-main\\\\demo.py')\n",
    "print(f\"The length of the file is:\", file_2)\n",
    "user_file = fileLength()\n",
    "print(user_file)"
   ]
  },
  {
   "cell_type": "code",
   "execution_count": 21,
   "id": "cfe4955f",
   "metadata": {},
   "outputs": [
    {
     "name": "stdout",
     "output_type": "stream",
     "text": [
      "['doll', 'firetruck', 'kitten']\n",
      "Enter the initial x-coordinate: 1\n",
      "Enter the initial y-coordinate: 0\n"
     ]
    },
    {
     "ename": "TypeError",
     "evalue": "Kangaroo() takes no arguments",
     "output_type": "error",
     "traceback": [
      "\u001b[1;31m---------------------------------------------------------------------------\u001b[0m",
      "\u001b[1;31mTypeError\u001b[0m                                 Traceback (most recent call last)",
      "Cell \u001b[1;32mIn[21], line 13\u001b[0m\n\u001b[0;32m      9\u001b[0m     \u001b[38;5;28;01mdef\u001b[39;00m \u001b[38;5;21mpouch_contents\u001b[39m(\u001b[38;5;28mself\u001b[39m):\n\u001b[0;32m     10\u001b[0m         \u001b[38;5;28;01mreturn\u001b[39;00m \u001b[38;5;28mself\u001b[39m\u001b[38;5;241m.\u001b[39mpouch\n\u001b[1;32m---> 13\u001b[0m \u001b[38;5;28;01mclass\u001b[39;00m \u001b[38;5;21;01mKangaroo\u001b[39;00m(Marsupial):\n\u001b[0;32m     14\u001b[0m     \u001b[38;5;28;01mdef\u001b[39;00m \u001b[38;5;21m_init_\u001b[39m(\u001b[38;5;28mself\u001b[39m, x, y):\n\u001b[0;32m     15\u001b[0m         \u001b[38;5;28msuper\u001b[39m()\u001b[38;5;241m.\u001b[39m_init_(x,y)\n",
      "Cell \u001b[1;32mIn[21], line 36\u001b[0m, in \u001b[0;36mKangaroo\u001b[1;34m()\u001b[0m\n\u001b[0;32m     34\u001b[0m x \u001b[38;5;241m=\u001b[39m \u001b[38;5;28mint\u001b[39m(\u001b[38;5;28minput\u001b[39m(\u001b[38;5;124m\"\u001b[39m\u001b[38;5;124mEnter the initial x-coordinate: \u001b[39m\u001b[38;5;124m\"\u001b[39m))\n\u001b[0;32m     35\u001b[0m y \u001b[38;5;241m=\u001b[39m \u001b[38;5;28mint\u001b[39m(\u001b[38;5;28minput\u001b[39m(\u001b[38;5;124m\"\u001b[39m\u001b[38;5;124mEnter the initial y-coordinate: \u001b[39m\u001b[38;5;124m\"\u001b[39m))\n\u001b[1;32m---> 36\u001b[0m k \u001b[38;5;241m=\u001b[39m \u001b[43mKangaroo\u001b[49m\u001b[43m(\u001b[49m\u001b[43mx\u001b[49m\u001b[43m,\u001b[49m\u001b[43m \u001b[49m\u001b[43my\u001b[49m\u001b[43m)\u001b[49m\n\u001b[0;32m     37\u001b[0m \u001b[38;5;28mprint\u001b[39m(k)\n\u001b[0;32m     38\u001b[0m \u001b[38;5;28;01mfor\u001b[39;00m item \u001b[38;5;129;01min\u001b[39;00m items:\n",
      "\u001b[1;31mTypeError\u001b[0m: Kangaroo() takes no arguments"
     ]
    }
   ],
   "source": [
    "#Q3\n",
    "class Marsupial:\n",
    "    pouch=[]\n",
    "    def _init_(self):\n",
    "        self.pouch = []\n",
    "\n",
    "    def put_in_pouch(self, item):\n",
    "        self.pouch.append(item)\n",
    "\n",
    "    def pouch_contents(self):\n",
    "        return self.pouch\n",
    "\n",
    "\n",
    "class Kangaroo(Marsupial):\n",
    "    def _init_(self, x, y):\n",
    "        super()._init_()\n",
    "        self.x= x\n",
    "        self.y = y\n",
    "\n",
    "    def jump(self, dx, dy):\n",
    "        self.x += dx\n",
    "        self.y += dy\n",
    "\n",
    "    def _str_(self):\n",
    "        return f\"I am a Kangaroo located at coordinates ({self.x},{self.y})\"\n",
    "\n",
    "\n",
    "\n",
    "    m = Marsupial()\n",
    "    items = ['doll', 'firetruck', 'kitten']\n",
    "    for item in items:\n",
    "        m.put_in_pouch(item)\n",
    "    print(m.pouch_contents())\n",
    "\n",
    "    x = int(input(\"Enter the initial x-coordinate: \"))\n",
    "    y = int(input(\"Enter the initial y-coordinate: \"))\n",
    "    k = Kangaroo(x, y)\n",
    "    print(k)\n",
    "    for item in items:\n",
    "        k.put_in_pouch(item)\n",
    "    print(k.pouch_contents())\n",
    "\n",
    "    num_jumps = int(input(\"Enter the number of jumps: \"))\n",
    "    for _ in range(num_jumps):\n",
    "        dx, dy = map(int, input(\"Enter the jumping distances (dx, dy): \").split())\n",
    "        k.jump(dx, dy)\n",
    "    print(k)\n",
    "\n",
    "\n"
   ]
  },
  {
   "cell_type": "code",
   "execution_count": 23,
   "id": "8a1dfedb",
   "metadata": {
    "scrolled": true
   },
   "outputs": [
    {
     "name": "stdout",
     "output_type": "stream",
     "text": [
      "Enter a positive integer: 16\n",
      "16\n",
      "8\n",
      "4\n",
      "2\n",
      "1\n"
     ]
    }
   ],
   "source": [
    "def collatz(x):\n",
    "    print(x)\n",
    "    if x == 1:\n",
    "        return\n",
    "    elif x % 2 == 0:\n",
    "        collatz(x // 2)\n",
    "    else:\n",
    "        collatz(3*x + 1)\n",
    "\n",
    "x = int(input(\"Enter a positive integer: \"))\n",
    "collatz(x)"
   ]
  },
  {
   "cell_type": "code",
   "execution_count": 28,
   "id": "80e9accf",
   "metadata": {},
   "outputs": [
    {
     "name": "stdout",
     "output_type": "stream",
     "text": [
      "Enter a non-negative integer: 13\n",
      "The binary representation of the entered number is: \n",
      "1101"
     ]
    }
   ],
   "source": [
    "def binary(n):\n",
    "    if n > 1:\n",
    "        binary(n // 2)\n",
    "    print(n % 2, end='')\n",
    "\n",
    "\n",
    "n = int(input(\"Enter a non-negative integer: \"))\n",
    "print(\"The binary representation of the entered number is: \")\n",
    "binary(n)"
   ]
  },
  {
   "cell_type": "code",
   "execution_count": 57,
   "id": "d6c832fe",
   "metadata": {},
   "outputs": [
    {
     "name": "stdout",
     "output_type": "stream",
     "text": [
      "Invalid heading tag: html\n",
      "Invalid heading tag: html\n",
      "Invalid heading tag: head\n"
     ]
    },
    {
     "ename": "AttributeError",
     "evalue": "'HeadingParser' object has no attribute 'headings'",
     "output_type": "error",
     "traceback": [
      "\u001b[1;31m---------------------------------------------------------------------------\u001b[0m",
      "\u001b[1;31mAttributeError\u001b[0m                            Traceback (most recent call last)",
      "Cell \u001b[1;32mIn[57], line 59\u001b[0m\n\u001b[0;32m     56\u001b[0m infile\u001b[38;5;241m.\u001b[39mclose()\n\u001b[0;32m     58\u001b[0m hp \u001b[38;5;241m=\u001b[39m HeadingParser()\n\u001b[1;32m---> 59\u001b[0m \u001b[43mhp\u001b[49m\u001b[38;5;241;43m.\u001b[39;49m\u001b[43mfeed\u001b[49m\u001b[43m(\u001b[49m\u001b[43mcontent\u001b[49m\u001b[43m)\u001b[49m\n\u001b[0;32m     60\u001b[0m hp\u001b[38;5;241m.\u001b[39mprint_headings()\n",
      "File \u001b[1;32m~\\anaconda3\\lib\\html\\parser.py:110\u001b[0m, in \u001b[0;36mHTMLParser.feed\u001b[1;34m(self, data)\u001b[0m\n\u001b[0;32m    104\u001b[0m \u001b[38;5;124mr\u001b[39m\u001b[38;5;124;03m\"\"\"Feed data to the parser.\u001b[39;00m\n\u001b[0;32m    105\u001b[0m \n\u001b[0;32m    106\u001b[0m \u001b[38;5;124;03mCall this as often as you want, with as little or as much text\u001b[39;00m\n\u001b[0;32m    107\u001b[0m \u001b[38;5;124;03mas you want (may include '\\n').\u001b[39;00m\n\u001b[0;32m    108\u001b[0m \u001b[38;5;124;03m\"\"\"\u001b[39;00m\n\u001b[0;32m    109\u001b[0m \u001b[38;5;28mself\u001b[39m\u001b[38;5;241m.\u001b[39mrawdata \u001b[38;5;241m=\u001b[39m \u001b[38;5;28mself\u001b[39m\u001b[38;5;241m.\u001b[39mrawdata \u001b[38;5;241m+\u001b[39m data\n\u001b[1;32m--> 110\u001b[0m \u001b[38;5;28;43mself\u001b[39;49m\u001b[38;5;241;43m.\u001b[39;49m\u001b[43mgoahead\u001b[49m\u001b[43m(\u001b[49m\u001b[38;5;241;43m0\u001b[39;49m\u001b[43m)\u001b[49m\n",
      "File \u001b[1;32m~\\anaconda3\\lib\\html\\parser.py:172\u001b[0m, in \u001b[0;36mHTMLParser.goahead\u001b[1;34m(self, end)\u001b[0m\n\u001b[0;32m    170\u001b[0m     k \u001b[38;5;241m=\u001b[39m \u001b[38;5;28mself\u001b[39m\u001b[38;5;241m.\u001b[39mparse_starttag(i)\n\u001b[0;32m    171\u001b[0m \u001b[38;5;28;01melif\u001b[39;00m startswith(\u001b[38;5;124m\"\u001b[39m\u001b[38;5;124m</\u001b[39m\u001b[38;5;124m\"\u001b[39m, i):\n\u001b[1;32m--> 172\u001b[0m     k \u001b[38;5;241m=\u001b[39m \u001b[38;5;28;43mself\u001b[39;49m\u001b[38;5;241;43m.\u001b[39;49m\u001b[43mparse_endtag\u001b[49m\u001b[43m(\u001b[49m\u001b[43mi\u001b[49m\u001b[43m)\u001b[49m\n\u001b[0;32m    173\u001b[0m \u001b[38;5;28;01melif\u001b[39;00m startswith(\u001b[38;5;124m\"\u001b[39m\u001b[38;5;124m<!--\u001b[39m\u001b[38;5;124m\"\u001b[39m, i):\n\u001b[0;32m    174\u001b[0m     k \u001b[38;5;241m=\u001b[39m \u001b[38;5;28mself\u001b[39m\u001b[38;5;241m.\u001b[39mparse_comment(i)\n",
      "File \u001b[1;32m~\\anaconda3\\lib\\html\\parser.py:420\u001b[0m, in \u001b[0;36mHTMLParser.parse_endtag\u001b[1;34m(self, i)\u001b[0m\n\u001b[0;32m    417\u001b[0m         \u001b[38;5;28mself\u001b[39m\u001b[38;5;241m.\u001b[39mhandle_data(rawdata[i:gtpos])\n\u001b[0;32m    418\u001b[0m         \u001b[38;5;28;01mreturn\u001b[39;00m gtpos\n\u001b[1;32m--> 420\u001b[0m \u001b[38;5;28;43mself\u001b[39;49m\u001b[38;5;241;43m.\u001b[39;49m\u001b[43mhandle_endtag\u001b[49m\u001b[43m(\u001b[49m\u001b[43melem\u001b[49m\u001b[43m)\u001b[49m\n\u001b[0;32m    421\u001b[0m \u001b[38;5;28mself\u001b[39m\u001b[38;5;241m.\u001b[39mclear_cdata_mode()\n\u001b[0;32m    422\u001b[0m \u001b[38;5;28;01mreturn\u001b[39;00m gtpos\n",
      "Cell \u001b[1;32mIn[57], line 46\u001b[0m, in \u001b[0;36mHeadingParser.handle_endtag\u001b[1;34m(self, tag)\u001b[0m\n\u001b[0;32m     44\u001b[0m \u001b[38;5;28;01mdef\u001b[39;00m \u001b[38;5;21mhandle_endtag\u001b[39m(\u001b[38;5;28mself\u001b[39m, tag):\n\u001b[0;32m     45\u001b[0m     \u001b[38;5;28;01mif\u001b[39;00m tag\u001b[38;5;241m.\u001b[39mstartswith(\u001b[38;5;124m'\u001b[39m\u001b[38;5;124mh\u001b[39m\u001b[38;5;124m'\u001b[39m):\n\u001b[1;32m---> 46\u001b[0m         \u001b[38;5;28;43mself\u001b[39;49m\u001b[38;5;241;43m.\u001b[39;49m\u001b[43mheadings\u001b[49m\u001b[38;5;241m.\u001b[39mappend(\u001b[38;5;28mself\u001b[39m\u001b[38;5;241m.\u001b[39mcurrent_heading)\n",
      "\u001b[1;31mAttributeError\u001b[0m: 'HeadingParser' object has no attribute 'headings'"
     ]
    }
   ],
   "source": [
    "def convert_text_to_html(text_file, html_file):\n",
    "    with open(text_file, 'r') as infile:\n",
    "        content = infile.read()\n",
    "\n",
    "    processed_content = content.replace('\\n', '<br>')\n",
    "\n",
    "    with open(html_file, 'w') as outfile:\n",
    "        outfile.write('<html>\\n')\n",
    "        outfile.write('<body>\\n')\n",
    "        outfile.write(processed_content)\n",
    "        outfile.write('\\n</body>\\n')\n",
    "        outfile.write('</html>\\n')\n",
    "\n",
    "\n",
    "text_file = 'C:\\\\Users\\\\manvi\\\\OneDrive - EMT Megatherm Pvt Ltd\\\\Documents\\\\w3c.txt'\n",
    "html_file = 'w3c.html'\n",
    "convert_text_to_html(text_file, html_file)\n",
    "\n",
    "from html.parser import HTMLParser\n",
    "\n",
    "\n",
    "class HeadingParser(HTMLParser):\n",
    "    def _init_(self):\n",
    "        super()._init_()\n",
    "        self.headings = []\n",
    "        self.current_heading = \"\"\n",
    "        self.indentation = 0\n",
    "\n",
    "    def handle_starttag(self, tag, attrs):\n",
    "        if tag.startswith('h'):\n",
    "            try:\n",
    "                 self.indentation = int(tag[1:]) - 1\n",
    "                \n",
    "            except ValueError:\n",
    "                print(f\"Invalid heading tag: {tag}\")\n",
    "                \n",
    "           \n",
    "            \n",
    "\n",
    "    def handle_data(self, data):\n",
    "        if hasattr(self, 'current_heading'):\n",
    "            self.current_heading += data.strip()\n",
    "\n",
    "    def handle_endtag(self, tag):\n",
    "        if tag.startswith('h'):\n",
    "            self.headings.append(self.current_heading)\n",
    "            \n",
    "\n",
    "    def print_headings(self):\n",
    "        for heading in self.headings:\n",
    "            print(\"  \" * self.indentation + heading)\n",
    "\n",
    "\n",
    "infile = open('w3c.html')\n",
    "content = infile.read()\n",
    "infile.close()\n",
    "\n",
    "hp = HeadingParser()\n",
    "hp.feed(content)\n",
    "hp.print_headings()"
   ]
  },
  {
   "cell_type": "code",
   "execution_count": 71,
   "id": "9661c5da",
   "metadata": {},
   "outputs": [
    {
     "ename": "TypeError",
     "evalue": "HeadingParser.handle_starttag() missing 1 required positional argument: 'tag_data'",
     "output_type": "error",
     "traceback": [
      "\u001b[1;31m---------------------------------------------------------------------------\u001b[0m",
      "\u001b[1;31mTypeError\u001b[0m                                 Traceback (most recent call last)",
      "Cell \u001b[1;32mIn[71], line 67\u001b[0m\n\u001b[0;32m     64\u001b[0m infile\u001b[38;5;241m.\u001b[39mclose()\n\u001b[0;32m     66\u001b[0m hp \u001b[38;5;241m=\u001b[39m HeadingParser()\n\u001b[1;32m---> 67\u001b[0m \u001b[43mhp\u001b[49m\u001b[38;5;241;43m.\u001b[39;49m\u001b[43mfeed\u001b[49m\u001b[43m(\u001b[49m\u001b[43mcontent\u001b[49m\u001b[43m)\u001b[49m\n\u001b[0;32m     68\u001b[0m hp\u001b[38;5;241m.\u001b[39mprint_data()\n",
      "File \u001b[1;32m~\\anaconda3\\lib\\html\\parser.py:110\u001b[0m, in \u001b[0;36mHTMLParser.feed\u001b[1;34m(self, data)\u001b[0m\n\u001b[0;32m    104\u001b[0m \u001b[38;5;124mr\u001b[39m\u001b[38;5;124;03m\"\"\"Feed data to the parser.\u001b[39;00m\n\u001b[0;32m    105\u001b[0m \n\u001b[0;32m    106\u001b[0m \u001b[38;5;124;03mCall this as often as you want, with as little or as much text\u001b[39;00m\n\u001b[0;32m    107\u001b[0m \u001b[38;5;124;03mas you want (may include '\\n').\u001b[39;00m\n\u001b[0;32m    108\u001b[0m \u001b[38;5;124;03m\"\"\"\u001b[39;00m\n\u001b[0;32m    109\u001b[0m \u001b[38;5;28mself\u001b[39m\u001b[38;5;241m.\u001b[39mrawdata \u001b[38;5;241m=\u001b[39m \u001b[38;5;28mself\u001b[39m\u001b[38;5;241m.\u001b[39mrawdata \u001b[38;5;241m+\u001b[39m data\n\u001b[1;32m--> 110\u001b[0m \u001b[38;5;28;43mself\u001b[39;49m\u001b[38;5;241;43m.\u001b[39;49m\u001b[43mgoahead\u001b[49m\u001b[43m(\u001b[49m\u001b[38;5;241;43m0\u001b[39;49m\u001b[43m)\u001b[49m\n",
      "File \u001b[1;32m~\\anaconda3\\lib\\html\\parser.py:170\u001b[0m, in \u001b[0;36mHTMLParser.goahead\u001b[1;34m(self, end)\u001b[0m\n\u001b[0;32m    168\u001b[0m \u001b[38;5;28;01mif\u001b[39;00m startswith(\u001b[38;5;124m'\u001b[39m\u001b[38;5;124m<\u001b[39m\u001b[38;5;124m'\u001b[39m, i):\n\u001b[0;32m    169\u001b[0m     \u001b[38;5;28;01mif\u001b[39;00m starttagopen\u001b[38;5;241m.\u001b[39mmatch(rawdata, i): \u001b[38;5;66;03m# < + letter\u001b[39;00m\n\u001b[1;32m--> 170\u001b[0m         k \u001b[38;5;241m=\u001b[39m \u001b[38;5;28;43mself\u001b[39;49m\u001b[38;5;241;43m.\u001b[39;49m\u001b[43mparse_starttag\u001b[49m\u001b[43m(\u001b[49m\u001b[43mi\u001b[49m\u001b[43m)\u001b[49m\n\u001b[0;32m    171\u001b[0m     \u001b[38;5;28;01melif\u001b[39;00m startswith(\u001b[38;5;124m\"\u001b[39m\u001b[38;5;124m</\u001b[39m\u001b[38;5;124m\"\u001b[39m, i):\n\u001b[0;32m    172\u001b[0m         k \u001b[38;5;241m=\u001b[39m \u001b[38;5;28mself\u001b[39m\u001b[38;5;241m.\u001b[39mparse_endtag(i)\n",
      "File \u001b[1;32m~\\anaconda3\\lib\\html\\parser.py:344\u001b[0m, in \u001b[0;36mHTMLParser.parse_starttag\u001b[1;34m(self, i)\u001b[0m\n\u001b[0;32m    342\u001b[0m     \u001b[38;5;28mself\u001b[39m\u001b[38;5;241m.\u001b[39mhandle_startendtag(tag, attrs)\n\u001b[0;32m    343\u001b[0m \u001b[38;5;28;01melse\u001b[39;00m:\n\u001b[1;32m--> 344\u001b[0m     \u001b[38;5;28;43mself\u001b[39;49m\u001b[38;5;241;43m.\u001b[39;49m\u001b[43mhandle_starttag\u001b[49m\u001b[43m(\u001b[49m\u001b[43mtag\u001b[49m\u001b[43m,\u001b[49m\u001b[43m \u001b[49m\u001b[43mattrs\u001b[49m\u001b[43m)\u001b[49m\n\u001b[0;32m    345\u001b[0m     \u001b[38;5;28;01mif\u001b[39;00m tag \u001b[38;5;129;01min\u001b[39;00m \u001b[38;5;28mself\u001b[39m\u001b[38;5;241m.\u001b[39mCDATA_CONTENT_ELEMENTS:\n\u001b[0;32m    346\u001b[0m         \u001b[38;5;28mself\u001b[39m\u001b[38;5;241m.\u001b[39mset_cdata_mode(tag)\n",
      "\u001b[1;31mTypeError\u001b[0m: HeadingParser.handle_starttag() missing 1 required positional argument: 'tag_data'"
     ]
    }
   ],
   "source": [
    "\n",
    "def convert_text_to_html(text_file, html_file):\n",
    "    with open(text_file, 'r') as infile:\n",
    "        content = infile.read()\n",
    "\n",
    "    processed_content = content.replace('\\n', '<br>')\n",
    "\n",
    "    with open(html_file, 'w') as outfile:\n",
    "        outfile.write('<html>\\n')\n",
    "        outfile.write('<body>\\n')\n",
    "        outfile.write(processed_content)\n",
    "        outfile.write('\\n</body>\\n')\n",
    "        outfile.write('</html>\\n')\n",
    "\n",
    "\n",
    "text_file = 'C:\\\\Users\\\\manvi\\\\OneDrive - EMT Megatherm Pvt Ltd\\\\Documents\\\\w3c.txt'\n",
    "html_file = 'w3c.html'\n",
    "convert_text_to_html(text_file, html_file)\n",
    "\n",
    "\n",
    "from html.parser import HTMLParser\n",
    "\n",
    "\n",
    "\n",
    "class HeadingParser(HTMLParser):\n",
    "    def _init_(self):\n",
    "        super()._init_()\n",
    "        self.reset()\n",
    "        self.tag_data = []\n",
    "\n",
    "    def handle_starttag(self, tag, attrs, tag_data):\n",
    "        if tag in ['h1', 'h2', 'h3', 'h4', 'h5', 'h6']:\n",
    "            self.tag_data.append({'type': tag, 'data': ''})\n",
    "\n",
    "    def handle_data(self, data, tag_data):\n",
    "        if len(self.tag_data) != 0:\n",
    "            open_tag_data = self.tag_data.pop()\n",
    "            if open_tag_data['type'] in ['h1', 'h2', 'h3', 'h4', 'h5', 'h6']:\n",
    "                open_tag_data['data'] = data\n",
    "                self.tag_data.append(open_tag_data)\n",
    "\n",
    "    def print_data(self,tag_data):\n",
    "        for data in self.tag_data:\n",
    "            if data['type'] == 'h1':\n",
    "                print(data['data'])\n",
    "\n",
    "            if data['type'] == 'h2':\n",
    "                print(\"\\t\" + data['data'])\n",
    "\n",
    "            if data['type'] == 'h3':\n",
    "                print(\"\\t\\t\" + data['data'])\n",
    "\n",
    "            if data['type'] == 'h4':\n",
    "                print(\"\\t\\t\\t\" + data['data'])\n",
    "\n",
    "            if data['type'] == 'h5':\n",
    "                print(\"\\t\\t\\t\\t\" + data['data'])\n",
    "\n",
    "            if data['type'] == 'h6':\n",
    "                print(\"\\t\\t\\t\\t\\t\" + data['data'])\n",
    "\n",
    "\n",
    "infile = open('w3c.html')\n",
    "content = infile.read()\n",
    "infile.close()\n",
    "\n",
    "hp = HeadingParser()\n",
    "hp.feed(content)\n",
    "hp.print_data()"
   ]
  },
  {
   "cell_type": "code",
   "execution_count": 69,
   "id": "e8486fc9",
   "metadata": {},
   "outputs": [
    {
     "ename": "TypeError",
     "evalue": "webdir() missing 1 required positional argument: 'urls'",
     "output_type": "error",
     "traceback": [
      "\u001b[1;31m---------------------------------------------------------------------------\u001b[0m",
      "\u001b[1;31mTypeError\u001b[0m                                 Traceback (most recent call last)",
      "Cell \u001b[1;32mIn[69], line 37\u001b[0m\n\u001b[0;32m     31\u001b[0m         \u001b[38;5;28mprint\u001b[39m(\u001b[38;5;124m'\u001b[39m\u001b[38;5;124m \u001b[39m\u001b[38;5;124m'\u001b[39m \u001b[38;5;241m*\u001b[39m indent \u001b[38;5;241m+\u001b[39m full_url)\n\u001b[0;32m     33\u001b[0m         webdir(full_url, depth \u001b[38;5;241m-\u001b[39m \u001b[38;5;241m1\u001b[39m, indent\u001b[38;5;241m+\u001b[39m\u001b[38;5;241m1\u001b[39m)\n\u001b[1;32m---> 37\u001b[0m \u001b[43mwebdir\u001b[49m\u001b[43m(\u001b[49m\u001b[38;5;124;43m'\u001b[39;49m\u001b[38;5;124;43mhttps://www.feynmanlectures.caltech.edu/\u001b[39;49m\u001b[38;5;124;43m'\u001b[39;49m\u001b[43m,\u001b[49m\u001b[43m \u001b[49m\u001b[38;5;241;43m2\u001b[39;49m\u001b[43m,\u001b[49m\u001b[43m \u001b[49m\u001b[38;5;241;43m0\u001b[39;49m\u001b[43m)\u001b[49m\n",
      "\u001b[1;31mTypeError\u001b[0m: webdir() missing 1 required positional argument: 'urls'"
     ]
    }
   ],
   "source": [
    "from urllib.request import urlopen\n",
    "from urllib.parse import urljoin\n",
    "from html.parser import HTMLParser\n",
    "\n",
    "\n",
    "class WebDirParser(HTMLParser):\n",
    "    def _init_(self):\n",
    "        super()._init_()\n",
    "        self.urls = []\n",
    "\n",
    "    def handle_starttag(self, tag, attrs, urls):\n",
    "        if tag == 'a':\n",
    "            for attr in attrs:\n",
    "                if attr[0] == 'href':\n",
    "                    self.urls.append(attr[1])\n",
    "\n",
    "\n",
    "def webdir(url, depth, indent,urls):\n",
    "    if depth < 0:\n",
    "        return\n",
    "\n",
    "    response = urlopen(url)\n",
    "    content = response.read().decode('utf-8')\n",
    "    response.close()\n",
    "\n",
    "    parser = WebDirParser()\n",
    "    parser.feed(content)\n",
    "\n",
    "    for url_path in parser.urls:\n",
    "        full_url = urljoin(url, url_path)\n",
    "        print(' ' * indent + full_url)\n",
    "\n",
    "        webdir(full_url, depth - 1, indent+1)\n",
    "\n",
    "\n",
    "\n",
    "webdir('https://www.feynmanlectures.caltech.edu/', 2, 0)"
   ]
  },
  {
   "cell_type": "code",
   "execution_count": 72,
   "id": "29ecc54a",
   "metadata": {
    "scrolled": true
   },
   "outputs": [
    {
     "name": "stdout",
     "output_type": "stream",
     "text": [
      "Temperature Data: [(24.8,), (28.4,), (27.9,), (27.6,), (4.2,), (8.3,), (15.7,), (10.4,), (13.6,), (20.7,), (27.7,), (22.2,)]\n",
      "Cities without Repetition: [('Mumbai',), ('London',), ('Cairo',)]\n",
      "Records for India: [('Mumbai', 'India', 'Winter', 24.8, 5.9), ('Mumbai', 'India', 'Spring', 28.4, 16.2), ('Mumbai', 'India', 'Summer', 27.9, 1549.4), ('Mumbai', 'India', 'Fall', 27.6, 346)]\n",
      "Fall Records: [('Mumbai', 'India', 'Fall', 27.6, 346), ('London', 'United Kingdom', 'Fall', 10.4, 218.5), ('Cairo', 'Egypt', 'Fall', 22.2, 4.5)]\n",
      "Cities, Countries, and Seasons with Average Rainfall between 200 and 400 mm: [('Mumbai', 'India', 'Fall'), ('London', 'United Kingdom', 'Winter'), ('London', 'United Kingdom', 'Fall')]\n",
      "Cities and Countries with Average Fall Temperature above 20 degrees (in increasing order): [('Cairo', 'Egypt'), ('Mumbai', 'India')]\n",
      "Total Annual Rainfall for Cairo: [(27.6,)]\n",
      "Total Rainfall for Each Season: [('Fall', 569.0), ('Spring', 192.29999999999998), ('Summer', 1706.5), ('Winter', 230.1)]\n"
     ]
    }
   ],
   "source": [
    "import sqlite3\n",
    "\n",
    "\n",
    "conn = sqlite3.connect('your_database.db')\n",
    "\n",
    "\n",
    "cursor = conn.cursor()\n",
    "\n",
    "cursor.execute('''\n",
    "    CREATE TABLE IF NOT EXISTS weather (\n",
    "        City VARCHAR(100),\n",
    "        Country VARCHAR(100),\n",
    "        Season VARCHAR(100),\n",
    "        Temperature DECIMAL(5, 1),\n",
    "        Rainfall DECIMAL(6, 1)\n",
    "    )\n",
    "''')\n",
    "\n",
    "cursor.execute('''\n",
    "    INSERT INTO weather (City, Country, Season, Temperature, Rainfall)\n",
    "    VALUES\n",
    "        ('Mumbai', 'India', 'Winter', 24.8, 5.9),\n",
    "        ('Mumbai', 'India', 'Spring', 28.4, 16.2),\n",
    "        ('Mumbai', 'India', 'Summer', 27.9, 1549.4),\n",
    "        ('Mumbai', 'India', 'Fall', 27.6, 346.0),\n",
    "        ('London', 'United Kingdom', 'Winter', 4.2, 207.7),\n",
    "        ('London', 'United Kingdom', 'Spring', 8.3, 169.6),\n",
    "        ('London', 'United Kingdom', 'Summer', 15.7, 157.0),\n",
    "        ('London', 'United Kingdom', 'Fall', 10.4, 218.5),\n",
    "        ('Cairo', 'Egypt', 'Winter', 13.6, 16.5),\n",
    "        ('Cairo', 'Egypt', 'Spring', 20.7, 6.5),\n",
    "        ('Cairo', 'Egypt', 'Summer', 27.7, 0.1),\n",
    "        ('Cairo', 'Egypt', 'Fall', 22.2, 4.5)\n",
    "''')\n",
    "\n",
    "conn.commit()\n",
    "\n",
    "\n",
    "cursor.execute(\"SELECT Temperature FROM weather;\")\n",
    "result_a = cursor.fetchall()\n",
    "\n",
    "cursor.execute(\"SELECT DISTINCT City FROM weather;\")\n",
    "result_b = cursor.fetchall()\n",
    "\n",
    "cursor.execute(\"SELECT * FROM weather WHERE Country = 'India';\")\n",
    "result_c = cursor.fetchall()\n",
    "\n",
    "cursor.execute(\"SELECT * FROM weather WHERE Season = 'Fall';\")\n",
    "result_d = cursor.fetchall()\n",
    "\n",
    "cursor.execute(\"SELECT City, Country, Season FROM weather WHERE Rainfall BETWEEN 200 AND 400;\")\n",
    "result_e = cursor.fetchall()\n",
    "\n",
    "cursor.execute(\"SELECT City, Country FROM weather WHERE Season = 'Fall' AND Temperature > 20 ORDER BY Temperature ASC;\")\n",
    "result_f = cursor.fetchall()\n",
    "\n",
    "cursor.execute(\"SELECT SUM(Rainfall) AS Total_Rainfall FROM weather WHERE City = 'Cairo';\")\n",
    "result_g = cursor.fetchall()\n",
    "\n",
    "cursor.execute(\"SELECT Season, SUM(Rainfall) AS Total_Rainfall FROM weather GROUP BY Season;\")\n",
    "result_h = cursor.fetchall()\n",
    "\n",
    "cursor.close()\n",
    "conn.close()\n",
    "\n",
    "print(\"Temperature Data:\", result_a)\n",
    "print(\"Cities without Repetition:\", result_b)\n",
    "print(\"Records for India:\", result_c)\n",
    "print(\"Fall Records:\", result_d)\n",
    "print(\"Cities, Countries, and Seasons with Average Rainfall between 200 and 400 mm:\", result_e)\n",
    "print(\"Cities and Countries with Average Fall Temperature above 20 degrees (in increasing order):\", result_f)\n",
    "print(\"Total Annual Rainfall for Cairo:\", result_g)\n",
    "print(\"Total Rainfall for Each Season:\", result_h)\n",
    "\n",
    "\n",
    "\n"
   ]
  },
  {
   "cell_type": "code",
   "execution_count": 73,
   "id": "6637e5fc",
   "metadata": {},
   "outputs": [
    {
     "name": "stdout",
     "output_type": "stream",
     "text": [
      "a) ['THE', 'QUICK', 'BROWN', 'FOX', 'JUMPS', 'OVER', 'THE', 'LAZY', 'DOG']\n",
      "b) ['the', 'quick', 'brown', 'fox', 'jumps', 'over', 'the', 'lazy', 'dog']\n",
      "c) [3, 5, 5, 3, 5, 4, 3, 4, 3]\n",
      "d) [['THE', 'the', 3], ['QUICK', 'quick', 5], ['BROWN', 'brown', 5], ['FOX', 'fox', 3], ['JUMPS', 'jumps', 5], ['OVER', 'over', 4], ['THE', 'the', 3], ['LAZY', 'lazy', 4], ['DOG', 'dog', 3]]\n",
      "e) ['quick', 'brown', 'jumps', 'over', 'lazy']\n"
     ]
    }
   ],
   "source": [
    "words = ['The', 'quick', 'brown', 'fox', 'jumps', 'over', 'the', 'lazy', 'dog']\n",
    "\n",
    "# a) ['THE', 'QUICK', 'BROWN', 'FOX', 'JUMPS', 'OVER', 'THE', 'LAZY', 'DOG']\n",
    "uppercase_words = [word.upper() for word in words]\n",
    "\n",
    "# b) ['the', 'quick', 'brown', 'fox', 'jumps', 'over', 'the', 'lazy', 'dog']\n",
    "lowercase_words = [word.lower() for word in words]\n",
    "\n",
    "# c) [3, 5, 5, 3, 5, 4, 3, 4, 3]\n",
    "word_lengths = [len(word) for word in words]\n",
    "\n",
    "# d) [['THE', 'the', 3], ['QUICK', 'quick', 5], ['BROWN', 'brown', 5], ['FOX', 'fox', 3], ['JUMPS', 'jumps', 5], ['OVER', 'over', 4], ['THE', 'the', 3], ['LAZY', 'lazy', 4], ['DOG', 'dog', 3]]\n",
    "word_info = [[word.upper(), word.lower(), len(word)] for word in words]\n",
    "\n",
    "# e) ['The', 'quick', 'brown', 'fox', 'jumps', 'over', 'the', 'lazy', 'dog']\n",
    "long_words = [word for word in words if len(word) >= 4]\n",
    "\n",
    "print(\"a)\", uppercase_words)\n",
    "print(\"b)\", lowercase_words)\n",
    "print(\"c)\", word_lengths)\n",
    "print(\"d)\", word_info)\n",
    "print(\"e)\", long_words)"
   ]
  },
  {
   "cell_type": "code",
   "execution_count": null,
   "id": "8c44b32c",
   "metadata": {},
   "outputs": [],
   "source": []
  }
 ],
 "metadata": {
  "kernelspec": {
   "display_name": "Python 3 (ipykernel)",
   "language": "python",
   "name": "python3"
  },
  "language_info": {
   "codemirror_mode": {
    "name": "ipython",
    "version": 3
   },
   "file_extension": ".py",
   "mimetype": "text/x-python",
   "name": "python",
   "nbconvert_exporter": "python",
   "pygments_lexer": "ipython3",
   "version": "3.10.9"
  }
 },
 "nbformat": 4,
 "nbformat_minor": 5
}
